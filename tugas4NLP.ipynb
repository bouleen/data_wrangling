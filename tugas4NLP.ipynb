{
  "nbformat": 4,
  "nbformat_minor": 0,
  "metadata": {
    "colab": {
      "provenance": []
    },
    "kernelspec": {
      "name": "python3",
      "display_name": "Python 3"
    },
    "language_info": {
      "name": "python"
    }
  },
  "cells": [
    {
      "cell_type": "code",
      "execution_count": 4,
      "metadata": {
        "colab": {
          "base_uri": "https://localhost:8080/"
        },
        "id": "9vPV4ibhpyYr",
        "outputId": "b93521f5-03c1-46b9-f923-dce4eb791cb3"
      },
      "outputs": [
        {
          "output_type": "stream",
          "name": "stdout",
          "text": [
            "✅ Dataset 'cryptocurrency.csv' berhasil dimuat dengan 119496 baris!\n"
          ]
        }
      ],
      "source": [
        "import pandas as pd\n",
        "import numpy as np\n",
        "\n",
        "file_name = 'cryptocurrency.csv'\n",
        "\n",
        "# Muat dataset\n",
        "try:\n",
        "    # Memuat file yang sudah diunggah\n",
        "    df = pd.read_csv(file_name)\n",
        "    print(f\"✅ Dataset '{file_name}' berhasil dimuat dengan {len(df)} baris!\")\n",
        "except Exception as e:\n",
        "    print(f\"❌ Terjadi kesalahan saat memuat dataset: {e}\")"
      ]
    },
    {
      "cell_type": "code",
      "source": [
        "print(\"\\n--- A. Discovery (Telaah Data) ---\")\n",
        "\n",
        "# Menampilkan 5 baris pertama\n",
        "print(\"\\n[A.1] 5 Baris Pertama:\")\n",
        "print(df.head())\n",
        "\n",
        "# Menampilkan informasi umum (tipe data dan non-null count)\n",
        "print(\"\\n[A.2] Info Dataset Sebelum Cleaning:\")\n",
        "df.info()\n",
        "\n",
        "# Menghitung Missing Values (Nilai Hilang)\n",
        "print(\"\\n[A.3] Jumlah Missing Values per Kolom:\")\n",
        "print(df.isnull().sum())\n",
        "\n",
        "# Mendeteksi Duplikasi\n",
        "print(\"\\n[A.4] Jumlah Baris Duplikat:\")\n",
        "print(df.duplicated().sum())"
      ],
      "metadata": {
        "colab": {
          "base_uri": "https://localhost:8080/"
        },
        "id": "aE_cHRuqruvf",
        "outputId": "d358ee61-187d-480e-9751-a58279dec000"
      },
      "execution_count": 5,
      "outputs": [
        {
          "output_type": "stream",
          "name": "stdout",
          "text": [
            "\n",
            "--- A. Discovery (Telaah Data) ---\n",
            "\n",
            "[A.1] 5 Baris Pertama:\n",
            "             timestamp          name      symbol  price_usd         vol_24h  \\\n",
            "0  2025-10-11 12:23:08     LEO Token         leo      $9.59   $2,257,867.00   \n",
            "1  2025-10-11 12:23:08      MemeCore           m      $2.24  $38,809,975.00   \n",
            "2  2025-10-11 12:23:08  Figure Heloc  figr_heloc      $1.03  $61,601,743.00   \n",
            "3  2025-10-11 12:23:08  Wrapped eETH       weeth  $4,132.48  $58,006,062.00   \n",
            "4  2025-10-11 12:23:08          USDS        usds      $1.00  $53,468,731.00   \n",
            "\n",
            "  total_vol  chg_24h   chg_7d       market_cap  \n",
            "0     0.00%   +0.38%   -0.51%   $8,842,764,713  \n",
            "1     0.00%   +8.30%   +7.11%   $3,779,986,616  \n",
            "2     0.01%   +0.49%   +2.63%  $13,406,482,619  \n",
            "3     0.01%  -11.69%  -14.79%  $10,218,284,869  \n",
            "4     0.01%   -0.04%   +0.03%   $7,973,534,128  \n",
            "\n",
            "[A.2] Info Dataset Sebelum Cleaning:\n",
            "<class 'pandas.core.frame.DataFrame'>\n",
            "RangeIndex: 119496 entries, 0 to 119495\n",
            "Data columns (total 9 columns):\n",
            " #   Column      Non-Null Count   Dtype \n",
            "---  ------      --------------   ----- \n",
            " 0   timestamp   119496 non-null  object\n",
            " 1   name        119496 non-null  object\n",
            " 2   symbol      119496 non-null  object\n",
            " 3   price_usd   119496 non-null  object\n",
            " 4   vol_24h     119496 non-null  object\n",
            " 5   total_vol   119496 non-null  object\n",
            " 6   chg_24h     119496 non-null  object\n",
            " 7   chg_7d      119480 non-null  object\n",
            " 8   market_cap  119460 non-null  object\n",
            "dtypes: object(9)\n",
            "memory usage: 8.2+ MB\n",
            "\n",
            "[A.3] Jumlah Missing Values per Kolom:\n",
            "timestamp      0\n",
            "name           0\n",
            "symbol         0\n",
            "price_usd      0\n",
            "vol_24h        0\n",
            "total_vol      0\n",
            "chg_24h        0\n",
            "chg_7d        16\n",
            "market_cap    36\n",
            "dtype: int64\n",
            "\n",
            "[A.4] Jumlah Baris Duplikat:\n",
            "0\n"
          ]
        }
      ]
    },
    {
      "cell_type": "code",
      "source": [
        "print(\"\\n--- B & C. Structuring & Cleaning ---\")\n",
        "\n",
        "df_cleaned = df.copy()\n",
        "\n",
        "# C.1. Menghapus Duplikasi (jika ada)\n",
        "rows_before_drop = len(df_cleaned)\n",
        "df_cleaned.drop_duplicates(inplace=True)\n",
        "print(f\"[C.1] Dihapus {rows_before_drop - len(df_cleaned)} baris duplikat.\")\n",
        "\n",
        "# C.2. Membersihkan dan Mengubah Kolom Tanggal/Waktu\n",
        "# Mengubah kolom 'timestamp' ke tipe datetime\n",
        "df_cleaned['timestamp'] = pd.to_datetime(df_cleaned['timestamp'], errors='coerce')\n",
        "print(\"[C.2] Kolom 'timestamp' dikonversi ke tipe datetime.\")\n",
        "\n",
        "# C.3. Membersihkan dan Mengubah Kolom Moneter ke Numerik\n",
        "cols_to_clean = ['price_usd', 'vol_24h', 'market_cap']\n",
        "\n",
        "for col in cols_to_clean:\n",
        "    # Hapus karakter '$' dan ','\n",
        "    # Gunakan .astype(str) untuk menghindari error pada nilai non-string (misalnya np.nan)\n",
        "    df_cleaned[col] = df_cleaned[col].astype(str).str.replace(r'[$,\"]', '', regex=True)\n",
        "\n",
        "    # Mengubah ke tipe numerik. 'errors=coerce' akan mengubah nilai yang gagal di-parse menjadi NaN.\n",
        "    df_cleaned[col] = pd.to_numeric(df_cleaned[col], errors='coerce')\n",
        "    print(f\"[C.3] Kolom '{col}' dibersihkan dari '$', ',' dan diubah ke tipe float.\")\n",
        "\n",
        "\n",
        "# C.4. Menangani Missing Values (NaN) yang muncul setelah konversi\n",
        "# Cek berapa banyak NaN yang muncul di kolom yang baru diubah\n",
        "nan_after_conversion = df_cleaned[cols_to_clean].isnull().sum()\n",
        "print(\"\\n[C.4] Jumlah NaN setelah Konversi Numerik:\")\n",
        "print(nan_after_conversion[nan_after_conversion > 0])\n",
        "\n",
        "# Strategi Imputasi: Ganti NaN pada price/vol/market_cap dengan median (nilai tengah)\n",
        "for col in cols_to_clean:\n",
        "    median_val = df_cleaned[col].median()\n",
        "    df_cleaned[col].fillna(median_val, inplace=True)\n",
        "print(\"\\n[C.4] Nilai NaN pada kolom moneter diisi dengan median masing-masing kolom.\")"
      ],
      "metadata": {
        "colab": {
          "base_uri": "https://localhost:8080/"
        },
        "id": "Anb0IWLArxkc",
        "outputId": "b30ac043-ccd7-4a78-80d5-ae9bb93c7721"
      },
      "execution_count": 7,
      "outputs": [
        {
          "output_type": "stream",
          "name": "stdout",
          "text": [
            "\n",
            "--- B & C. Structuring & Cleaning ---\n",
            "[C.1] Dihapus 0 baris duplikat.\n",
            "[C.2] Kolom 'timestamp' dikonversi ke tipe datetime.\n",
            "[C.3] Kolom 'price_usd' dibersihkan dari '$', ',' dan diubah ke tipe float.\n",
            "[C.3] Kolom 'vol_24h' dibersihkan dari '$', ',' dan diubah ke tipe float.\n",
            "[C.3] Kolom 'market_cap' dibersihkan dari '$', ',' dan diubah ke tipe float.\n",
            "\n",
            "[C.4] Jumlah NaN setelah Konversi Numerik:\n",
            "price_usd        36\n",
            "vol_24h       97846\n",
            "market_cap    97846\n",
            "dtype: int64\n",
            "\n",
            "[C.4] Nilai NaN pada kolom moneter diisi dengan median masing-masing kolom.\n"
          ]
        },
        {
          "output_type": "stream",
          "name": "stderr",
          "text": [
            "/tmp/ipython-input-3385644063.py:37: FutureWarning: A value is trying to be set on a copy of a DataFrame or Series through chained assignment using an inplace method.\n",
            "The behavior will change in pandas 3.0. This inplace method will never work because the intermediate object on which we are setting values always behaves as a copy.\n",
            "\n",
            "For example, when doing 'df[col].method(value, inplace=True)', try using 'df.method({col: value}, inplace=True)' or df[col] = df[col].method(value) instead, to perform the operation inplace on the original object.\n",
            "\n",
            "\n",
            "  df_cleaned[col].fillna(median_val, inplace=True)\n"
          ]
        }
      ]
    },
    {
      "cell_type": "code",
      "source": [
        "print(\"\\n--- D. Enriching (Pengayaan Fitur) ---\")\n",
        "\n",
        "# D.1. Ekstraksi Tanggal dan Waktu\n",
        "df_cleaned['date'] = df_cleaned['timestamp'].dt.date\n",
        "df_cleaned['hour'] = df_cleaned['timestamp'].dt.hour\n",
        "print(\"[D.1] Kolom 'date' dan 'hour' berhasil ditambahkan dari 'timestamp'.\")\n",
        "\n",
        "# D.2. Membuat kolom 'Vol_per_Cap' (Rasio Volume 24 jam terhadap Market Cap)\n",
        "df_cleaned['Vol_per_Cap'] = df_cleaned['vol_24h'] / df_cleaned['market_cap']\n",
        "print(\"[D.2] Fitur 'Vol_per_Cap' (Volume/Market Cap) berhasil ditambahkan.\")"
      ],
      "metadata": {
        "colab": {
          "base_uri": "https://localhost:8080/"
        },
        "id": "Htd34T5ksJd_",
        "outputId": "c4a505df-5fa6-46c8-b795-791bb2349475"
      },
      "execution_count": 8,
      "outputs": [
        {
          "output_type": "stream",
          "name": "stdout",
          "text": [
            "\n",
            "--- D. Enriching (Pengayaan Fitur) ---\n",
            "[D.1] Kolom 'date' dan 'hour' berhasil ditambahkan dari 'timestamp'.\n",
            "[D.2] Fitur 'Vol_per_Cap' (Volume/Market Cap) berhasil ditambahkan.\n"
          ]
        }
      ]
    },
    {
      "cell_type": "code",
      "source": [
        "print(\"\\n--- E. Validating (Validasi Akhir) ---\")\n",
        "\n",
        "# E.1. Cek Ulang Missing Value\n",
        "print(\"\\n[E.1] Total Missing Values setelah Cleaning:\")\n",
        "print(df_cleaned.isnull().sum().sum()) # Seharusnya mendekati nol\n",
        "\n",
        "# E.2. Cek Tipe Data Akhir\n",
        "print(\"\\n[E.2] Info Dataset Akhir:\")\n",
        "df_cleaned.info()\n",
        "\n",
        "# E.3. Cek Statistik Deskriptif (memastikan format numerik sudah benar)\n",
        "print(\"\\n[E.3] Statistik Deskriptif Kolom Numerik Utama:\")\n",
        "print(df_cleaned[['price_usd', 'vol_24h', 'market_cap', 'Vol_per_Cap']].describe())"
      ],
      "metadata": {
        "colab": {
          "base_uri": "https://localhost:8080/"
        },
        "id": "sJhBUb7HsMPS",
        "outputId": "7162c010-af78-4cb7-b938-69514f1bea79"
      },
      "execution_count": 9,
      "outputs": [
        {
          "output_type": "stream",
          "name": "stdout",
          "text": [
            "\n",
            "--- E. Validating (Validasi Akhir) ---\n",
            "\n",
            "[E.1] Total Missing Values setelah Cleaning:\n",
            "16\n",
            "\n",
            "[E.2] Info Dataset Akhir:\n",
            "<class 'pandas.core.frame.DataFrame'>\n",
            "RangeIndex: 119496 entries, 0 to 119495\n",
            "Data columns (total 12 columns):\n",
            " #   Column       Non-Null Count   Dtype         \n",
            "---  ------       --------------   -----         \n",
            " 0   timestamp    119496 non-null  datetime64[ns]\n",
            " 1   name         119496 non-null  object        \n",
            " 2   symbol       119496 non-null  object        \n",
            " 3   price_usd    119496 non-null  float64       \n",
            " 4   vol_24h      119496 non-null  float64       \n",
            " 5   total_vol    119496 non-null  object        \n",
            " 6   chg_24h      119496 non-null  object        \n",
            " 7   chg_7d       119480 non-null  object        \n",
            " 8   market_cap   119496 non-null  float64       \n",
            " 9   date         119496 non-null  object        \n",
            " 10  hour         119496 non-null  int32         \n",
            " 11  Vol_per_Cap  119496 non-null  float64       \n",
            "dtypes: datetime64[ns](1), float64(4), int32(1), object(6)\n",
            "memory usage: 10.5+ MB\n",
            "\n",
            "[E.3] Statistik Deskriptif Kolom Numerik Utama:\n",
            "           price_usd       vol_24h    market_cap    Vol_per_Cap\n",
            "count  119496.000000  1.194960e+05  1.194960e+05  119496.000000\n",
            "mean     5893.177437  1.349354e+09  2.149595e+10       0.046876\n",
            "std     24129.202085  1.002886e+10  1.456594e+11       0.075226\n",
            "min         0.000000  0.000000e+00  3.591296e+08       0.000000\n",
            "25%         0.792075  3.457622e+08  8.880633e+09       0.038934\n",
            "50%         3.443400  3.457622e+08  8.880633e+09       0.038934\n",
            "75%       133.601000  3.457622e+08  8.880633e+09       0.038934\n",
            "max    125977.000000  3.591830e+11  2.507867e+12       6.549763\n"
          ]
        }
      ]
    },
    {
      "cell_type": "code",
      "source": [
        "print(\"\\n--- F. Publishing (Penyimpanan Data) ---\")\n",
        "\n",
        "file_output = 'cryptocurrency_bersih_output.csv'\n",
        "\n",
        "# Menyimpan ke format CSV. index=False agar kolom index tidak ikut tersimpan.\n",
        "df_cleaned.to_csv(file_output, index=False)\n",
        "\n",
        "print(f\"\\n✅ Data bersih berhasil disimpan ke file: {file_output}\")\n",
        "print(\"Anda dapat mengunduh file ini dari panel File di sisi kiri Google Colab.\")"
      ],
      "metadata": {
        "colab": {
          "base_uri": "https://localhost:8080/"
        },
        "id": "5GOk8c5rsNv-",
        "outputId": "24455880-45c3-4778-b4af-08c89ed2f2da"
      },
      "execution_count": 10,
      "outputs": [
        {
          "output_type": "stream",
          "name": "stdout",
          "text": [
            "\n",
            "--- F. Publishing (Penyimpanan Data) ---\n",
            "\n",
            "✅ Data bersih berhasil disimpan ke file: cryptocurrency_bersih_output.csv\n",
            "Anda dapat mengunduh file ini dari panel File di sisi kiri Google Colab.\n"
          ]
        }
      ]
    }
  ]
}